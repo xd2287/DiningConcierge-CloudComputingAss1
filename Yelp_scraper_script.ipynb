{
  "nbformat": 4,
  "nbformat_minor": 0,
  "metadata": {
    "colab": {
      "provenance": []
    },
    "kernelspec": {
      "name": "python3",
      "display_name": "Python 3"
    },
    "language_info": {
      "name": "python"
    }
  },
  "cells": [
    {
      "cell_type": "code",
      "source": [
        "import requests as r\n",
        "import json\n",
        "import numpy as np\n",
        "import pandas as pd\n",
        "from itertools import product\n"
      ],
      "metadata": {
        "id": "uFDOwG8Bt8U5"
      },
      "execution_count": 14,
      "outputs": []
    },
    {
      "cell_type": "code",
      "source": [
        "# Credentials: key, url, headers\n",
        "url = 'https://api.yelp.com/v3/businesses/search'\n",
        "key = 'MK4PDFOZPu4hrtlE-hYryaqcGz6WkLQPU9AnK-QccNA-DkVtD3vme9HHMoEXvqH6VnKo_eRcff6V7F9BWj-y-3vJ3XK3KPBD7bWuNXQCmGgSYzsxAM9RuCrTxxcnZXYx'\n",
        "headers = {\n",
        "    'Authorization': 'Bearer %s' % key\n",
        "}\n",
        "\n",
        "location = [\"Manhattan\"]\n",
        "offset = np.arange(0, 1000, 50)\n",
        "tuples = list(product(location, offset))\n",
        "\n",
        "info_list = []\n",
        "\n",
        "def search(cuisine):\n",
        "  detail_data = []\n",
        "  detail_info = []\n",
        "  for loc, step in tuples:\n",
        "    search_parameters = {\n",
        "      'term': f'{cuisine} restaurants',\n",
        "      'location': loc,\n",
        "      'limit': 50,  # We only need one result to get the total count\n",
        "      'offset': step\n",
        "    }\n",
        "    resp = r.get(url, headers=headers, params=search_parameters)\n",
        "    raw_data = resp.json()\n",
        "    detail_info.append(raw_data)\n",
        "\n",
        "  num_records = detail_info[0]['total']\n",
        "  print(f\"{cuisine} has {num_records} records\")\n",
        "\n",
        "  for info in detail_info:\n",
        "    data = info['businesses']\n",
        "    if data:\n",
        "      for item in data:\n",
        "        try:\n",
        "          dict_ = {\n",
        "                \"Id\": item['id'],\n",
        "                \"Name\": item['name'],\n",
        "                \"Cuisine\": cuisine,\n",
        "                \"Address\": ' '.join(item['location']['display_address']),\n",
        "                \"Coordinates\": item[\"coordinates\"],\n",
        "                \"ReviewCount\": item[\"review_count\"],\n",
        "                \"Rating\": item['rating'],\n",
        "                \"ZipCode\": item[\"zip_code\"]\n",
        "          }\n",
        "        except:\n",
        "            dict_ = {\n",
        "              \"Id\": item['id'],\n",
        "              \"Name\": item['name'],\n",
        "              \"Cuisine\": cuisine,\n",
        "              \"Address\": ' '.join(item['location']['display_address']),\n",
        "              \"Coordinates\": item[\"coordinates\"],\n",
        "              \"ReviewCount\": item[\"review_count\"],\n",
        "              \"Rating\": item['rating'],\n",
        "              \"ZipCode\": \"\"\n",
        "        }\n",
        "        info_list.append(dict_)\n",
        "\n",
        "cuisines = [\"Chinese\", \"Japanese\", \"Italian\", \"Thai\", \"Mexican\", \"French\", \"American\"]\n",
        "for cuisine in cuisines:\n",
        "  search(cuisine)\n",
        "\n",
        "df = pd.DataFrame(info_list)\n",
        "df[\"Id\"].nunique()"
      ],
      "metadata": {
        "colab": {
          "base_uri": "https://localhost:8080/"
        },
        "id": "VOKR_PlE-q1a",
        "outputId": "732637e6-3c20-49a1-db56-72eb2c35ebf8"
      },
      "execution_count": 26,
      "outputs": [
        {
          "output_type": "stream",
          "name": "stdout",
          "text": [
            "Chinese has 3400 records\n",
            "Japanese has 1900 records\n",
            "Italian has 4700 records\n",
            "Thai has 1800 records\n",
            "Mexican has 4900 records\n",
            "French has 803 records\n",
            "American has 6700 records\n"
          ]
        },
        {
          "output_type": "execute_result",
          "data": {
            "text/plain": [
              "5709"
            ]
          },
          "metadata": {},
          "execution_count": 26
        }
      ]
    },
    {
      "cell_type": "code",
      "source": [
        "df = pd.DataFrame(info_list)\n",
        "df = df.astype(str)\n",
        "df[\"Id\"].nunique()\n",
        "df_unique = df.drop_duplicates(subset='Id', keep='first')"
      ],
      "metadata": {
        "id": "i7kfWH4t0RAI"
      },
      "execution_count": 29,
      "outputs": []
    },
    {
      "cell_type": "code",
      "source": [
        "from google.colab import drive\n",
        "drive.mount('drive')"
      ],
      "metadata": {
        "colab": {
          "base_uri": "https://localhost:8080/"
        },
        "id": "YZCogd4E1URs",
        "outputId": "5b46615b-b229-45cb-9106-9ea72e64b992"
      },
      "execution_count": 28,
      "outputs": [
        {
          "output_type": "stream",
          "name": "stdout",
          "text": [
            "Mounted at drive\n"
          ]
        }
      ]
    },
    {
      "cell_type": "code",
      "source": [
        "json_data = df_unique.to_json(orient='records')\n",
        "with open('restaurants.json', 'w') as f:\n",
        "    f.write(json_data)\n",
        "!cp restaurants.json \"drive/My Drive/\""
      ],
      "metadata": {
        "id": "6LPBu47m54yh"
      },
      "execution_count": 30,
      "outputs": []
    },
    {
      "cell_type": "code",
      "source": [
        "json_list = []\n",
        "df_unique.reset_index(inplace=True)\n",
        "for index, row in df_unique.iterrows():\n",
        "    json_list.append(f'{{\"index\": {{\"_index\": \"restaurants\", \"_id\": {index + 1}}}}}')\n",
        "    json_list.append(f'{{\"Id\": \"{row[\"Id\"]}\", \"cuisine\": \"{row[\"Cuisine\"]}\"}}')\n",
        "output_json = '\\n'.join(json_list)\n",
        "with open('restaurants_opensearch.json', 'w') as f:\n",
        "    f.write(output_json)\n",
        "!cp restaurants_opensearch.json \"drive/My Drive/\""
      ],
      "metadata": {
        "id": "DWJ8ewgJkYoo"
      },
      "execution_count": 31,
      "outputs": []
    }
  ]
}